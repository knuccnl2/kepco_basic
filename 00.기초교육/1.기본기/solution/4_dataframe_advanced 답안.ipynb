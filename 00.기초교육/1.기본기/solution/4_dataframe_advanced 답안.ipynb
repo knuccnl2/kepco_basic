{
 "cells": [
  {
   "cell_type": "code",
   "execution_count": 47,
   "metadata": {
    "collapsed": true
   },
   "outputs": [],
   "source": [
    "import pandas as pd\n",
    "from pandas import Series, DataFrame\n",
    "import numpy as np\n",
    "from numpy import nan as NA ## numpy 안에서 nan을 Na으로 대체한다는 뜻입니다."
   ]
  },
  {
   "cell_type": "markdown",
   "metadata": {},
   "source": [
    "### 실습 예제 1\n",
    "series1, series2라는 Series 기본구조를 만든다. series1은 index는 ㄱ,ㄷ,ㄹ,ㄴ 순으로 하며, value 값은 index에 자음이 들어가는 단어로 자유롭게 정하시오. series2 에는 series1을 index 순으로 정렬된 Series를 넣으시고 series1, series2를 각각 출력하시오."
   ]
  },
  {
   "cell_type": "code",
   "execution_count": 48,
   "metadata": {
    "collapsed": false
   },
   "outputs": [
    {
     "data": {
      "text/plain": [
       "ㄱ    구인\n",
       "ㄷ    도망\n",
       "ㄹ    린스\n",
       "ㄴ    나무\n",
       "dtype: object"
      ]
     },
     "execution_count": 48,
     "metadata": {},
     "output_type": "execute_result"
    }
   ],
   "source": [
    "#모법 답안\n",
    "series1 = Series(['구인','도망','린스','나무'], index=['ㄱ','ㄷ','ㄹ','ㄴ'])\n",
    "series2 = series1.sort_index()\n",
    "\n",
    "series1"
   ]
  },
  {
   "cell_type": "markdown",
   "metadata": {},
   "source": [
    "### 실습예제2\n",
    "위 frame.sort_index(axis=? , ascending = ?) 에서 axis = (0 or 1), ascending = (False, True)를 자유롭게 넣어 보고 결과를 살펴본 뒤\n",
    "frame2 = DataFrame(np.arange(9).reshape((3, 3)), index=['2', '3', '1'], columns=['3','1','2'])를 행과 열을 1,2,3 순으로 바꾼 뒤 출력해보시오."
   ]
  },
  {
   "cell_type": "code",
   "execution_count": 49,
   "metadata": {
    "collapsed": false
   },
   "outputs": [
    {
     "data": {
      "text/plain": [
       "2   -3\n",
       "3    2\n",
       "0    4\n",
       "1    7\n",
       "dtype: int64"
      ]
     },
     "execution_count": 49,
     "metadata": {},
     "output_type": "execute_result"
    }
   ],
   "source": [
    "# 인덱스가 아니라 값을 중심으로 정렬\n",
    "obj = Series([4, 7, -3, 2])\n",
    "obj.sort_values()"
   ]
  },
  {
   "cell_type": "markdown",
   "metadata": {},
   "source": [
    "### 실습예제3\n",
    "행 'c'를 기준으로 정렬한 Dataframe을 변수 frame2에 넣어 출력하시오."
   ]
  },
  {
   "cell_type": "code",
   "execution_count": 50,
   "metadata": {
    "collapsed": false
   },
   "outputs": [
    {
     "data": {
      "text/html": [
       "<div>\n",
       "<table border=\"1\" class=\"dataframe\">\n",
       "  <thead>\n",
       "    <tr style=\"text-align: right;\">\n",
       "      <th></th>\n",
       "      <th>a</th>\n",
       "      <th>b</th>\n",
       "      <th>c</th>\n",
       "    </tr>\n",
       "  </thead>\n",
       "  <tbody>\n",
       "    <tr>\n",
       "      <th>1</th>\n",
       "      <td>9</td>\n",
       "      <td>7</td>\n",
       "      <td>3</td>\n",
       "    </tr>\n",
       "    <tr>\n",
       "      <th>0</th>\n",
       "      <td>4</td>\n",
       "      <td>4</td>\n",
       "      <td>5</td>\n",
       "    </tr>\n",
       "    <tr>\n",
       "      <th>2</th>\n",
       "      <td>2</td>\n",
       "      <td>3</td>\n",
       "      <td>7</td>\n",
       "    </tr>\n",
       "    <tr>\n",
       "      <th>3</th>\n",
       "      <td>5</td>\n",
       "      <td>2</td>\n",
       "      <td>9</td>\n",
       "    </tr>\n",
       "  </tbody>\n",
       "</table>\n",
       "</div>"
      ],
      "text/plain": [
       "   a  b  c\n",
       "1  9  7  3\n",
       "0  4  4  5\n",
       "2  2  3  7\n",
       "3  5  2  9"
      ]
     },
     "execution_count": 50,
     "metadata": {},
     "output_type": "execute_result"
    }
   ],
   "source": [
    "frame = DataFrame({'b': [4, 7, 3, 2], 'a': [4,9,2,5], 'c': [5,3,7,9]}) \n",
    "#답안\n",
    "frame2 =frame.sort_values(by='c')\n",
    "frame2"
   ]
  },
  {
   "cell_type": "markdown",
   "metadata": {},
   "source": [
    "### 실습예제 4\n",
    "frame에 rank를 적용해보시오."
   ]
  },
  {
   "cell_type": "code",
   "execution_count": 51,
   "metadata": {
    "collapsed": false
   },
   "outputs": [
    {
     "data": {
      "text/html": [
       "<div>\n",
       "<table border=\"1\" class=\"dataframe\">\n",
       "  <thead>\n",
       "    <tr style=\"text-align: right;\">\n",
       "      <th></th>\n",
       "      <th>a</th>\n",
       "      <th>b</th>\n",
       "      <th>c</th>\n",
       "    </tr>\n",
       "  </thead>\n",
       "  <tbody>\n",
       "    <tr>\n",
       "      <th>0</th>\n",
       "      <td>2.0</td>\n",
       "      <td>3.0</td>\n",
       "      <td>2.0</td>\n",
       "    </tr>\n",
       "    <tr>\n",
       "      <th>1</th>\n",
       "      <td>4.0</td>\n",
       "      <td>4.0</td>\n",
       "      <td>1.0</td>\n",
       "    </tr>\n",
       "    <tr>\n",
       "      <th>2</th>\n",
       "      <td>1.0</td>\n",
       "      <td>2.0</td>\n",
       "      <td>3.0</td>\n",
       "    </tr>\n",
       "    <tr>\n",
       "      <th>3</th>\n",
       "      <td>3.0</td>\n",
       "      <td>1.0</td>\n",
       "      <td>4.0</td>\n",
       "    </tr>\n",
       "  </tbody>\n",
       "</table>\n",
       "</div>"
      ],
      "text/plain": [
       "     a    b    c\n",
       "0  2.0  3.0  2.0\n",
       "1  4.0  4.0  1.0\n",
       "2  1.0  2.0  3.0\n",
       "3  3.0  1.0  4.0"
      ]
     },
     "execution_count": 51,
     "metadata": {},
     "output_type": "execute_result"
    }
   ],
   "source": [
    "frame = DataFrame({'b': [4,7,3,2], 'a': [4,9,2,5], 'c': [5,3,7,9]})\n",
    "##답안\n",
    "frame.rank() #열 기준으로 rank를 수행"
   ]
  },
  {
   "cell_type": "markdown",
   "metadata": {},
   "source": [
    "### 실습예제 5\n",
    "frame 합을 행을 기준으로 NaN이 있으면 이를 반영하지 않는 합을 구해보시오."
   ]
  },
  {
   "cell_type": "code",
   "execution_count": 52,
   "metadata": {
    "collapsed": false
   },
   "outputs": [
    {
     "data": {
      "text/plain": [
       "0    13.0\n",
       "1    19.0\n",
       "2    12.0\n",
       "3     7.0\n",
       "dtype: float64"
      ]
     },
     "execution_count": 52,
     "metadata": {},
     "output_type": "execute_result"
    }
   ],
   "source": [
    "frame = DataFrame({'b': [4, 7, 3, 2], 'a': [4,9,2,5], 'c': [5,3,7,np.nan]})\n",
    "#모법답안\n",
    "frame.sum(axis=1,skipna=True)"
   ]
  },
  {
   "cell_type": "markdown",
   "metadata": {},
   "source": [
    "### 실습예제6\n",
    "obj 에서 isin 문을 자유롭게 활용해보시오."
   ]
  },
  {
   "cell_type": "code",
   "execution_count": 53,
   "metadata": {
    "collapsed": false
   },
   "outputs": [
    {
     "data": {
      "text/plain": [
       "Series([], dtype: object)"
      ]
     },
     "execution_count": 53,
     "metadata": {},
     "output_type": "execute_result"
    }
   ],
   "source": [
    "obj = Series(['c', 'a', 'd', 'a', 'a', 'b', 'b', 'c', 'c'])\n",
    "##모법 답안\n",
    "obj[obj.isin(['g'])] ## isin는 is in을 뜻한다."
   ]
  },
  {
   "cell_type": "markdown",
   "metadata": {},
   "source": [
    "### 실습예제7\n",
    "위에서 np.random.randn(7,3)을 단독적으로 실행해보고 결과 값을 확인 해보시오.\n",
    "활용 하여 np.random.randn 6 * 4 행렬을 만들고 DataFrame 형식으로 나타내보시오.\n"
   ]
  },
  {
   "cell_type": "code",
   "execution_count": 54,
   "metadata": {
    "collapsed": false
   },
   "outputs": [
    {
     "name": "stdout",
     "output_type": "stream",
     "text": [
      "[[-1.9464157  -1.63335042  0.93426064]\n",
      " [ 1.36756079 -0.21387309 -0.45324317]\n",
      " [ 0.32245573 -1.81751662 -1.48993746]\n",
      " [-1.46143513 -0.68178544 -0.97931052]\n",
      " [-0.19564247 -0.55160069  0.85437426]\n",
      " [-0.64135029 -0.92243788 -0.55244583]\n",
      " [-0.46503656 -1.02733709 -0.15225259]]\n"
     ]
    },
    {
     "data": {
      "text/html": [
       "<div>\n",
       "<table border=\"1\" class=\"dataframe\">\n",
       "  <thead>\n",
       "    <tr style=\"text-align: right;\">\n",
       "      <th></th>\n",
       "      <th>0</th>\n",
       "      <th>1</th>\n",
       "      <th>2</th>\n",
       "      <th>3</th>\n",
       "    </tr>\n",
       "  </thead>\n",
       "  <tbody>\n",
       "    <tr>\n",
       "      <th>0</th>\n",
       "      <td>0.128336</td>\n",
       "      <td>-1.528617</td>\n",
       "      <td>0.590820</td>\n",
       "      <td>0.820984</td>\n",
       "    </tr>\n",
       "    <tr>\n",
       "      <th>1</th>\n",
       "      <td>-0.041242</td>\n",
       "      <td>-1.670044</td>\n",
       "      <td>-0.603456</td>\n",
       "      <td>1.727717</td>\n",
       "    </tr>\n",
       "    <tr>\n",
       "      <th>2</th>\n",
       "      <td>-1.154734</td>\n",
       "      <td>-0.864232</td>\n",
       "      <td>0.768594</td>\n",
       "      <td>-0.026390</td>\n",
       "    </tr>\n",
       "    <tr>\n",
       "      <th>3</th>\n",
       "      <td>-0.268956</td>\n",
       "      <td>-0.104225</td>\n",
       "      <td>-1.136881</td>\n",
       "      <td>1.120080</td>\n",
       "    </tr>\n",
       "    <tr>\n",
       "      <th>4</th>\n",
       "      <td>-0.702931</td>\n",
       "      <td>-1.718846</td>\n",
       "      <td>0.918040</td>\n",
       "      <td>-0.345967</td>\n",
       "    </tr>\n",
       "    <tr>\n",
       "      <th>5</th>\n",
       "      <td>-0.016562</td>\n",
       "      <td>1.116334</td>\n",
       "      <td>1.651031</td>\n",
       "      <td>1.605614</td>\n",
       "    </tr>\n",
       "  </tbody>\n",
       "</table>\n",
       "</div>"
      ],
      "text/plain": [
       "          0         1         2         3\n",
       "0  0.128336 -1.528617  0.590820  0.820984\n",
       "1 -0.041242 -1.670044 -0.603456  1.727717\n",
       "2 -1.154734 -0.864232  0.768594 -0.026390\n",
       "3 -0.268956 -0.104225 -1.136881  1.120080\n",
       "4 -0.702931 -1.718846  0.918040 -0.345967\n",
       "5 -0.016562  1.116334  1.651031  1.605614"
      ]
     },
     "execution_count": 54,
     "metadata": {},
     "output_type": "execute_result"
    }
   ],
   "source": [
    "#모법답안\n",
    "print(np.random.randn(7 , 3))\n",
    "df2 = DataFrame(np.random.randn(6 , 4))\n",
    "df2"
   ]
  },
  {
   "cell_type": "markdown",
   "metadata": {},
   "source": [
    "### 실습예제8\n",
    "위 예제에서 만들었던 DataFrame에 (0,0) (1,1) (2,2) (3,3) 위치에 있는 값들을 Na 값으로 대체해보시오."
   ]
  },
  {
   "cell_type": "code",
   "execution_count": 56,
   "metadata": {
    "collapsed": false
   },
   "outputs": [
    {
     "data": {
      "text/html": [
       "<div>\n",
       "<table border=\"1\" class=\"dataframe\">\n",
       "  <thead>\n",
       "    <tr style=\"text-align: right;\">\n",
       "      <th></th>\n",
       "      <th>0</th>\n",
       "      <th>1</th>\n",
       "      <th>2</th>\n",
       "      <th>3</th>\n",
       "    </tr>\n",
       "  </thead>\n",
       "  <tbody>\n",
       "    <tr>\n",
       "      <th>0</th>\n",
       "      <td>NaN</td>\n",
       "      <td>-1.528617</td>\n",
       "      <td>0.590820</td>\n",
       "      <td>0.820984</td>\n",
       "    </tr>\n",
       "    <tr>\n",
       "      <th>1</th>\n",
       "      <td>-0.041242</td>\n",
       "      <td>NaN</td>\n",
       "      <td>-0.603456</td>\n",
       "      <td>1.727717</td>\n",
       "    </tr>\n",
       "    <tr>\n",
       "      <th>2</th>\n",
       "      <td>-1.154734</td>\n",
       "      <td>-0.864232</td>\n",
       "      <td>NaN</td>\n",
       "      <td>-0.026390</td>\n",
       "    </tr>\n",
       "    <tr>\n",
       "      <th>3</th>\n",
       "      <td>-0.268956</td>\n",
       "      <td>-0.104225</td>\n",
       "      <td>-1.136881</td>\n",
       "      <td>NaN</td>\n",
       "    </tr>\n",
       "    <tr>\n",
       "      <th>4</th>\n",
       "      <td>-0.702931</td>\n",
       "      <td>-1.718846</td>\n",
       "      <td>0.918040</td>\n",
       "      <td>-0.345967</td>\n",
       "    </tr>\n",
       "    <tr>\n",
       "      <th>5</th>\n",
       "      <td>-0.016562</td>\n",
       "      <td>1.116334</td>\n",
       "      <td>1.651031</td>\n",
       "      <td>1.605614</td>\n",
       "    </tr>\n",
       "  </tbody>\n",
       "</table>\n",
       "</div>"
      ],
      "text/plain": [
       "          0         1         2         3\n",
       "0       NaN -1.528617  0.590820  0.820984\n",
       "1 -0.041242       NaN -0.603456  1.727717\n",
       "2 -1.154734 -0.864232       NaN -0.026390\n",
       "3 -0.268956 -0.104225 -1.136881       NaN\n",
       "4 -0.702931 -1.718846  0.918040 -0.345967\n",
       "5 -0.016562  1.116334  1.651031  1.605614"
      ]
     },
     "execution_count": 56,
     "metadata": {},
     "output_type": "execute_result"
    }
   ],
   "source": [
    "# 모법답안\n",
    "df2.ix[0, 0] = NA\n",
    "df2.ix[1, 1] = NA\n",
    "df2.ix[2,2] = NA\n",
    "df2.ix[3,3] = NA\n",
    "df2"
   ]
  },
  {
   "cell_type": "markdown",
   "metadata": {},
   "source": [
    "### 실습예제9\n",
    "np.random.randn을 활용해 3*3 Dataframe 구조를 만든 뒤 값들을 확인하여 음수에 해당하는 값들을 0으로 대체해보시오."
   ]
  },
  {
   "cell_type": "code",
   "execution_count": 57,
   "metadata": {
    "collapsed": false
   },
   "outputs": [
    {
     "data": {
      "text/html": [
       "<div>\n",
       "<table border=\"1\" class=\"dataframe\">\n",
       "  <thead>\n",
       "    <tr style=\"text-align: right;\">\n",
       "      <th></th>\n",
       "      <th>0</th>\n",
       "      <th>1</th>\n",
       "      <th>2</th>\n",
       "    </tr>\n",
       "  </thead>\n",
       "  <tbody>\n",
       "    <tr>\n",
       "      <th>0</th>\n",
       "      <td>1.894678</td>\n",
       "      <td>-0.740017</td>\n",
       "      <td>0.296595</td>\n",
       "    </tr>\n",
       "    <tr>\n",
       "      <th>1</th>\n",
       "      <td>1.013946</td>\n",
       "      <td>0.582237</td>\n",
       "      <td>1.529575</td>\n",
       "    </tr>\n",
       "    <tr>\n",
       "      <th>2</th>\n",
       "      <td>0.799530</td>\n",
       "      <td>-0.237239</td>\n",
       "      <td>-0.618004</td>\n",
       "    </tr>\n",
       "  </tbody>\n",
       "</table>\n",
       "</div>"
      ],
      "text/plain": [
       "          0         1         2\n",
       "0  1.894678 -0.740017  0.296595\n",
       "1  1.013946  0.582237  1.529575\n",
       "2  0.799530 -0.237239 -0.618004"
      ]
     },
     "execution_count": 57,
     "metadata": {},
     "output_type": "execute_result"
    }
   ],
   "source": [
    "##모법답안\n",
    "dataframe = DataFrame(np.random.randn(3 , 3)) \n",
    "dataframe\n",
    "##확인후 음수 해당 값들을 0으로 대체"
   ]
  },
  {
   "cell_type": "code",
   "execution_count": null,
   "metadata": {
    "collapsed": true
   },
   "outputs": [],
   "source": []
  }
 ],
 "metadata": {
  "kernelspec": {
   "display_name": "Python 3",
   "language": "python",
   "name": "python3"
  },
  "language_info": {
   "codemirror_mode": {
    "name": "ipython",
    "version": 3
   },
   "file_extension": ".py",
   "mimetype": "text/x-python",
   "name": "python",
   "nbconvert_exporter": "python",
   "pygments_lexer": "ipython3",
   "version": "3.6.0"
  }
 },
 "nbformat": 4,
 "nbformat_minor": 2
}
